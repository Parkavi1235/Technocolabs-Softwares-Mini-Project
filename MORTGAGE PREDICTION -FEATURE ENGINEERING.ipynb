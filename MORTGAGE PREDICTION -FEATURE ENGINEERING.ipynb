{
 "cells": [
  {
   "cell_type": "markdown",
   "id": "51ea8701",
   "metadata": {},
   "source": [
    "### Importing Libraries"
   ]
  },
  {
   "cell_type": "code",
   "execution_count": 1,
   "id": "21664722",
   "metadata": {},
   "outputs": [],
   "source": [
    "import pandas as pd\n",
    "import seaborn as sns\n",
    "import numpy as np\n",
    "import warnings\n",
    "import matplotlib.pyplot as plt\n",
    "%matplotlib inline\n",
    "warnings.filterwarnings('ignore')"
   ]
  },
  {
   "cell_type": "markdown",
   "id": "6dc66c02",
   "metadata": {},
   "source": [
    "### Loading Datasets"
   ]
  },
  {
   "cell_type": "code",
   "execution_count": 2,
   "id": "e8c43274",
   "metadata": {},
   "outputs": [],
   "source": [
    "df=pd.read_csv('LoanExport.csv')"
   ]
  },
  {
   "cell_type": "code",
   "execution_count": 3,
   "id": "46a338f5",
   "metadata": {},
   "outputs": [
    {
     "data": {
      "text/html": [
       "<div>\n",
       "<style scoped>\n",
       "    .dataframe tbody tr th:only-of-type {\n",
       "        vertical-align: middle;\n",
       "    }\n",
       "\n",
       "    .dataframe tbody tr th {\n",
       "        vertical-align: top;\n",
       "    }\n",
       "\n",
       "    .dataframe thead th {\n",
       "        text-align: right;\n",
       "    }\n",
       "</style>\n",
       "<table border=\"1\" class=\"dataframe\">\n",
       "  <thead>\n",
       "    <tr style=\"text-align: right;\">\n",
       "      <th></th>\n",
       "      <th>CreditScore</th>\n",
       "      <th>FirstPaymentDate</th>\n",
       "      <th>FirstTimeHomebuyer</th>\n",
       "      <th>MaturityDate</th>\n",
       "      <th>MSA</th>\n",
       "      <th>MIP</th>\n",
       "      <th>Units</th>\n",
       "      <th>Occupancy</th>\n",
       "      <th>OCLTV</th>\n",
       "      <th>DTI</th>\n",
       "      <th>...</th>\n",
       "      <th>PostalCode</th>\n",
       "      <th>LoanSeqNum</th>\n",
       "      <th>LoanPurpose</th>\n",
       "      <th>OrigLoanTerm</th>\n",
       "      <th>NumBorrowers</th>\n",
       "      <th>SellerName</th>\n",
       "      <th>ServicerName</th>\n",
       "      <th>EverDelinquent</th>\n",
       "      <th>MonthsDelinquent</th>\n",
       "      <th>MonthsInRepayment</th>\n",
       "    </tr>\n",
       "  </thead>\n",
       "  <tbody>\n",
       "    <tr>\n",
       "      <th>0</th>\n",
       "      <td>0</td>\n",
       "      <td>199902</td>\n",
       "      <td>N</td>\n",
       "      <td>202901</td>\n",
       "      <td>16974</td>\n",
       "      <td>25</td>\n",
       "      <td>1</td>\n",
       "      <td>O</td>\n",
       "      <td>89</td>\n",
       "      <td>27</td>\n",
       "      <td>...</td>\n",
       "      <td>60400</td>\n",
       "      <td>F199Q1268030</td>\n",
       "      <td>P</td>\n",
       "      <td>360</td>\n",
       "      <td>2</td>\n",
       "      <td>FL</td>\n",
       "      <td>WASHINGTONMUTUALBANK</td>\n",
       "      <td>0</td>\n",
       "      <td>0</td>\n",
       "      <td>52</td>\n",
       "    </tr>\n",
       "    <tr>\n",
       "      <th>1</th>\n",
       "      <td>0</td>\n",
       "      <td>199902</td>\n",
       "      <td>N</td>\n",
       "      <td>202901</td>\n",
       "      <td>19740</td>\n",
       "      <td>0</td>\n",
       "      <td>1</td>\n",
       "      <td>O</td>\n",
       "      <td>73</td>\n",
       "      <td>17</td>\n",
       "      <td>...</td>\n",
       "      <td>80200</td>\n",
       "      <td>F199Q1015092</td>\n",
       "      <td>N</td>\n",
       "      <td>360</td>\n",
       "      <td>1</td>\n",
       "      <td>FT</td>\n",
       "      <td>CHASEHOMEFINANCELLC</td>\n",
       "      <td>0</td>\n",
       "      <td>0</td>\n",
       "      <td>144</td>\n",
       "    </tr>\n",
       "    <tr>\n",
       "      <th>2</th>\n",
       "      <td>0</td>\n",
       "      <td>199902</td>\n",
       "      <td>N</td>\n",
       "      <td>202901</td>\n",
       "      <td>29940</td>\n",
       "      <td>0</td>\n",
       "      <td>1</td>\n",
       "      <td>O</td>\n",
       "      <td>75</td>\n",
       "      <td>16</td>\n",
       "      <td>...</td>\n",
       "      <td>66000</td>\n",
       "      <td>F199Q1266886</td>\n",
       "      <td>N</td>\n",
       "      <td>360</td>\n",
       "      <td>2</td>\n",
       "      <td>FL</td>\n",
       "      <td>WASHINGTONMUTUALBANK</td>\n",
       "      <td>0</td>\n",
       "      <td>0</td>\n",
       "      <td>67</td>\n",
       "    </tr>\n",
       "    <tr>\n",
       "      <th>3</th>\n",
       "      <td>0</td>\n",
       "      <td>199902</td>\n",
       "      <td>N</td>\n",
       "      <td>202901</td>\n",
       "      <td>31084</td>\n",
       "      <td>0</td>\n",
       "      <td>1</td>\n",
       "      <td>O</td>\n",
       "      <td>76</td>\n",
       "      <td>14</td>\n",
       "      <td>...</td>\n",
       "      <td>90700</td>\n",
       "      <td>F199Q1178167</td>\n",
       "      <td>N</td>\n",
       "      <td>360</td>\n",
       "      <td>2</td>\n",
       "      <td>GM</td>\n",
       "      <td>GMACMTGECORP</td>\n",
       "      <td>0</td>\n",
       "      <td>0</td>\n",
       "      <td>35</td>\n",
       "    </tr>\n",
       "    <tr>\n",
       "      <th>4</th>\n",
       "      <td>0</td>\n",
       "      <td>199902</td>\n",
       "      <td>N</td>\n",
       "      <td>202901</td>\n",
       "      <td>35644</td>\n",
       "      <td>0</td>\n",
       "      <td>1</td>\n",
       "      <td>O</td>\n",
       "      <td>78</td>\n",
       "      <td>18</td>\n",
       "      <td>...</td>\n",
       "      <td>7600</td>\n",
       "      <td>F199Q1178517</td>\n",
       "      <td>N</td>\n",
       "      <td>360</td>\n",
       "      <td>2</td>\n",
       "      <td>GM</td>\n",
       "      <td>GMACMTGECORP</td>\n",
       "      <td>0</td>\n",
       "      <td>0</td>\n",
       "      <td>54</td>\n",
       "    </tr>\n",
       "  </tbody>\n",
       "</table>\n",
       "<p>5 rows × 28 columns</p>\n",
       "</div>"
      ],
      "text/plain": [
       "   CreditScore  FirstPaymentDate FirstTimeHomebuyer  MaturityDate    MSA  MIP  \\\n",
       "0            0            199902                  N        202901  16974   25   \n",
       "1            0            199902                  N        202901  19740    0   \n",
       "2            0            199902                  N        202901  29940    0   \n",
       "3            0            199902                  N        202901  31084    0   \n",
       "4            0            199902                  N        202901  35644    0   \n",
       "\n",
       "   Units Occupancy  OCLTV  DTI  ...  PostalCode    LoanSeqNum  LoanPurpose  \\\n",
       "0      1         O     89   27  ...       60400  F199Q1268030            P   \n",
       "1      1         O     73   17  ...       80200  F199Q1015092            N   \n",
       "2      1         O     75   16  ...       66000  F199Q1266886            N   \n",
       "3      1         O     76   14  ...       90700  F199Q1178167            N   \n",
       "4      1         O     78   18  ...        7600  F199Q1178517            N   \n",
       "\n",
       "  OrigLoanTerm NumBorrowers SellerName          ServicerName EverDelinquent  \\\n",
       "0          360            2         FL  WASHINGTONMUTUALBANK              0   \n",
       "1          360            1         FT  CHASEHOMEFINANCELLC               0   \n",
       "2          360            2         FL  WASHINGTONMUTUALBANK              0   \n",
       "3          360            2         GM  GMACMTGECORP                      0   \n",
       "4          360            2         GM  GMACMTGECORP                      0   \n",
       "\n",
       "  MonthsDelinquent MonthsInRepayment  \n",
       "0                0                52  \n",
       "1                0               144  \n",
       "2                0                67  \n",
       "3                0                35  \n",
       "4                0                54  \n",
       "\n",
       "[5 rows x 28 columns]"
      ]
     },
     "execution_count": 3,
     "metadata": {},
     "output_type": "execute_result"
    }
   ],
   "source": [
    "df.head()"
   ]
  },
  {
   "cell_type": "markdown",
   "id": "2d08e268",
   "metadata": {},
   "source": [
    "### Shape of Data"
   ]
  },
  {
   "cell_type": "code",
   "execution_count": 4,
   "id": "f71f22cd",
   "metadata": {},
   "outputs": [
    {
     "data": {
      "text/plain": [
       "(291451, 28)"
      ]
     },
     "execution_count": 4,
     "metadata": {},
     "output_type": "execute_result"
    }
   ],
   "source": [
    "df.shape"
   ]
  },
  {
   "cell_type": "code",
   "execution_count": 5,
   "id": "be26da1a",
   "metadata": {},
   "outputs": [
    {
     "data": {
      "text/plain": [
       "CreditScore             int64\n",
       "FirstPaymentDate        int64\n",
       "FirstTimeHomebuyer     object\n",
       "MaturityDate            int64\n",
       "MSA                    object\n",
       "MIP                     int64\n",
       "Units                   int64\n",
       "Occupancy              object\n",
       "OCLTV                   int64\n",
       "DTI                     int64\n",
       "OrigUPB                 int64\n",
       "LTV                     int64\n",
       "OrigInterestRate      float64\n",
       "Channel                object\n",
       "PPM                    object\n",
       "ProductType            object\n",
       "PropertyState          object\n",
       "PropertyType           object\n",
       "PostalCode             object\n",
       "LoanSeqNum             object\n",
       "LoanPurpose            object\n",
       "OrigLoanTerm            int64\n",
       "NumBorrowers           object\n",
       "SellerName             object\n",
       "ServicerName           object\n",
       "EverDelinquent          int64\n",
       "MonthsDelinquent        int64\n",
       "MonthsInRepayment       int64\n",
       "dtype: object"
      ]
     },
     "execution_count": 5,
     "metadata": {},
     "output_type": "execute_result"
    }
   ],
   "source": [
    "df.dtypes"
   ]
  },
  {
   "cell_type": "code",
   "execution_count": 6,
   "id": "ad79826b",
   "metadata": {},
   "outputs": [
    {
     "data": {
      "text/html": [
       "<div>\n",
       "<style scoped>\n",
       "    .dataframe tbody tr th:only-of-type {\n",
       "        vertical-align: middle;\n",
       "    }\n",
       "\n",
       "    .dataframe tbody tr th {\n",
       "        vertical-align: top;\n",
       "    }\n",
       "\n",
       "    .dataframe thead th {\n",
       "        text-align: right;\n",
       "    }\n",
       "</style>\n",
       "<table border=\"1\" class=\"dataframe\">\n",
       "  <thead>\n",
       "    <tr style=\"text-align: right;\">\n",
       "      <th></th>\n",
       "      <th>CreditScore</th>\n",
       "      <th>FirstPaymentDate</th>\n",
       "      <th>MaturityDate</th>\n",
       "      <th>MIP</th>\n",
       "      <th>Units</th>\n",
       "      <th>OCLTV</th>\n",
       "      <th>DTI</th>\n",
       "      <th>OrigUPB</th>\n",
       "      <th>LTV</th>\n",
       "      <th>OrigInterestRate</th>\n",
       "      <th>OrigLoanTerm</th>\n",
       "      <th>EverDelinquent</th>\n",
       "      <th>MonthsDelinquent</th>\n",
       "      <th>MonthsInRepayment</th>\n",
       "    </tr>\n",
       "  </thead>\n",
       "  <tbody>\n",
       "    <tr>\n",
       "      <th>count</th>\n",
       "      <td>291451.000000</td>\n",
       "      <td>291451.000000</td>\n",
       "      <td>291451.000000</td>\n",
       "      <td>291451.000000</td>\n",
       "      <td>291451.000000</td>\n",
       "      <td>291451.000000</td>\n",
       "      <td>291451.000000</td>\n",
       "      <td>291451.000000</td>\n",
       "      <td>291451.000000</td>\n",
       "      <td>291451.000000</td>\n",
       "      <td>291451.000000</td>\n",
       "      <td>291451.000000</td>\n",
       "      <td>291451.000000</td>\n",
       "      <td>291451.000000</td>\n",
       "    </tr>\n",
       "    <tr>\n",
       "      <th>mean</th>\n",
       "      <td>708.936991</td>\n",
       "      <td>199904.760553</td>\n",
       "      <td>202902.367043</td>\n",
       "      <td>9.216685</td>\n",
       "      <td>1.026022</td>\n",
       "      <td>76.960529</td>\n",
       "      <td>30.033453</td>\n",
       "      <td>124940.387921</td>\n",
       "      <td>76.937986</td>\n",
       "      <td>6.926547</td>\n",
       "      <td>359.835375</td>\n",
       "      <td>0.197848</td>\n",
       "      <td>1.837729</td>\n",
       "      <td>60.805291</td>\n",
       "    </tr>\n",
       "    <tr>\n",
       "      <th>std</th>\n",
       "      <td>68.408791</td>\n",
       "      <td>13.821228</td>\n",
       "      <td>16.090508</td>\n",
       "      <td>12.648273</td>\n",
       "      <td>0.202986</td>\n",
       "      <td>15.236154</td>\n",
       "      <td>13.203974</td>\n",
       "      <td>53657.440624</td>\n",
       "      <td>15.225298</td>\n",
       "      <td>0.343541</td>\n",
       "      <td>2.286939</td>\n",
       "      <td>0.398378</td>\n",
       "      <td>8.809392</td>\n",
       "      <td>46.142599</td>\n",
       "    </tr>\n",
       "    <tr>\n",
       "      <th>min</th>\n",
       "      <td>0.000000</td>\n",
       "      <td>199901.000000</td>\n",
       "      <td>202402.000000</td>\n",
       "      <td>0.000000</td>\n",
       "      <td>0.000000</td>\n",
       "      <td>0.000000</td>\n",
       "      <td>0.000000</td>\n",
       "      <td>8000.000000</td>\n",
       "      <td>0.000000</td>\n",
       "      <td>4.000000</td>\n",
       "      <td>301.000000</td>\n",
       "      <td>0.000000</td>\n",
       "      <td>0.000000</td>\n",
       "      <td>1.000000</td>\n",
       "    </tr>\n",
       "    <tr>\n",
       "      <th>25%</th>\n",
       "      <td>675.000000</td>\n",
       "      <td>199903.000000</td>\n",
       "      <td>202902.000000</td>\n",
       "      <td>0.000000</td>\n",
       "      <td>1.000000</td>\n",
       "      <td>70.000000</td>\n",
       "      <td>22.000000</td>\n",
       "      <td>83000.000000</td>\n",
       "      <td>70.000000</td>\n",
       "      <td>6.750000</td>\n",
       "      <td>360.000000</td>\n",
       "      <td>0.000000</td>\n",
       "      <td>0.000000</td>\n",
       "      <td>34.000000</td>\n",
       "    </tr>\n",
       "    <tr>\n",
       "      <th>50%</th>\n",
       "      <td>717.000000</td>\n",
       "      <td>199904.000000</td>\n",
       "      <td>202903.000000</td>\n",
       "      <td>0.000000</td>\n",
       "      <td>1.000000</td>\n",
       "      <td>80.000000</td>\n",
       "      <td>31.000000</td>\n",
       "      <td>117000.000000</td>\n",
       "      <td>80.000000</td>\n",
       "      <td>6.875000</td>\n",
       "      <td>360.000000</td>\n",
       "      <td>0.000000</td>\n",
       "      <td>0.000000</td>\n",
       "      <td>48.000000</td>\n",
       "    </tr>\n",
       "    <tr>\n",
       "      <th>75%</th>\n",
       "      <td>753.000000</td>\n",
       "      <td>199905.000000</td>\n",
       "      <td>202904.000000</td>\n",
       "      <td>25.000000</td>\n",
       "      <td>1.000000</td>\n",
       "      <td>90.000000</td>\n",
       "      <td>39.000000</td>\n",
       "      <td>160000.000000</td>\n",
       "      <td>90.000000</td>\n",
       "      <td>7.125000</td>\n",
       "      <td>360.000000</td>\n",
       "      <td>0.000000</td>\n",
       "      <td>0.000000</td>\n",
       "      <td>63.000000</td>\n",
       "    </tr>\n",
       "    <tr>\n",
       "      <th>max</th>\n",
       "      <td>849.000000</td>\n",
       "      <td>201303.000000</td>\n",
       "      <td>204302.000000</td>\n",
       "      <td>55.000000</td>\n",
       "      <td>4.000000</td>\n",
       "      <td>110.000000</td>\n",
       "      <td>65.000000</td>\n",
       "      <td>497000.000000</td>\n",
       "      <td>103.000000</td>\n",
       "      <td>12.350000</td>\n",
       "      <td>361.000000</td>\n",
       "      <td>1.000000</td>\n",
       "      <td>180.000000</td>\n",
       "      <td>212.000000</td>\n",
       "    </tr>\n",
       "  </tbody>\n",
       "</table>\n",
       "</div>"
      ],
      "text/plain": [
       "         CreditScore  FirstPaymentDate   MaturityDate            MIP  \\\n",
       "count  291451.000000     291451.000000  291451.000000  291451.000000   \n",
       "mean      708.936991     199904.760553  202902.367043       9.216685   \n",
       "std        68.408791         13.821228      16.090508      12.648273   \n",
       "min         0.000000     199901.000000  202402.000000       0.000000   \n",
       "25%       675.000000     199903.000000  202902.000000       0.000000   \n",
       "50%       717.000000     199904.000000  202903.000000       0.000000   \n",
       "75%       753.000000     199905.000000  202904.000000      25.000000   \n",
       "max       849.000000     201303.000000  204302.000000      55.000000   \n",
       "\n",
       "               Units          OCLTV            DTI        OrigUPB  \\\n",
       "count  291451.000000  291451.000000  291451.000000  291451.000000   \n",
       "mean        1.026022      76.960529      30.033453  124940.387921   \n",
       "std         0.202986      15.236154      13.203974   53657.440624   \n",
       "min         0.000000       0.000000       0.000000    8000.000000   \n",
       "25%         1.000000      70.000000      22.000000   83000.000000   \n",
       "50%         1.000000      80.000000      31.000000  117000.000000   \n",
       "75%         1.000000      90.000000      39.000000  160000.000000   \n",
       "max         4.000000     110.000000      65.000000  497000.000000   \n",
       "\n",
       "                 LTV  OrigInterestRate   OrigLoanTerm  EverDelinquent  \\\n",
       "count  291451.000000     291451.000000  291451.000000   291451.000000   \n",
       "mean       76.937986          6.926547     359.835375        0.197848   \n",
       "std        15.225298          0.343541       2.286939        0.398378   \n",
       "min         0.000000          4.000000     301.000000        0.000000   \n",
       "25%        70.000000          6.750000     360.000000        0.000000   \n",
       "50%        80.000000          6.875000     360.000000        0.000000   \n",
       "75%        90.000000          7.125000     360.000000        0.000000   \n",
       "max       103.000000         12.350000     361.000000        1.000000   \n",
       "\n",
       "       MonthsDelinquent  MonthsInRepayment  \n",
       "count     291451.000000      291451.000000  \n",
       "mean           1.837729          60.805291  \n",
       "std            8.809392          46.142599  \n",
       "min            0.000000           1.000000  \n",
       "25%            0.000000          34.000000  \n",
       "50%            0.000000          48.000000  \n",
       "75%            0.000000          63.000000  \n",
       "max          180.000000         212.000000  "
      ]
     },
     "execution_count": 6,
     "metadata": {},
     "output_type": "execute_result"
    }
   ],
   "source": [
    "df.describe()\n"
   ]
  },
  {
   "cell_type": "code",
   "execution_count": 7,
   "id": "94ca2575",
   "metadata": {},
   "outputs": [
    {
     "name": "stdout",
     "output_type": "stream",
     "text": [
      "<class 'pandas.core.frame.DataFrame'>\n",
      "RangeIndex: 291451 entries, 0 to 291450\n",
      "Data columns (total 28 columns):\n",
      " #   Column              Non-Null Count   Dtype  \n",
      "---  ------              --------------   -----  \n",
      " 0   CreditScore         291451 non-null  int64  \n",
      " 1   FirstPaymentDate    291451 non-null  int64  \n",
      " 2   FirstTimeHomebuyer  291451 non-null  object \n",
      " 3   MaturityDate        291451 non-null  int64  \n",
      " 4   MSA                 291451 non-null  object \n",
      " 5   MIP                 291451 non-null  int64  \n",
      " 6   Units               291451 non-null  int64  \n",
      " 7   Occupancy           291451 non-null  object \n",
      " 8   OCLTV               291451 non-null  int64  \n",
      " 9   DTI                 291451 non-null  int64  \n",
      " 10  OrigUPB             291451 non-null  int64  \n",
      " 11  LTV                 291451 non-null  int64  \n",
      " 12  OrigInterestRate    291451 non-null  float64\n",
      " 13  Channel             291451 non-null  object \n",
      " 14  PPM                 291451 non-null  object \n",
      " 15  ProductType         291451 non-null  object \n",
      " 16  PropertyState       291451 non-null  object \n",
      " 17  PropertyType        291451 non-null  object \n",
      " 18  PostalCode          291451 non-null  object \n",
      " 19  LoanSeqNum          291451 non-null  object \n",
      " 20  LoanPurpose         291451 non-null  object \n",
      " 21  OrigLoanTerm        291451 non-null  int64  \n",
      " 22  NumBorrowers        291451 non-null  object \n",
      " 23  SellerName          266457 non-null  object \n",
      " 24  ServicerName        291451 non-null  object \n",
      " 25  EverDelinquent      291451 non-null  int64  \n",
      " 26  MonthsDelinquent    291451 non-null  int64  \n",
      " 27  MonthsInRepayment   291451 non-null  int64  \n",
      "dtypes: float64(1), int64(13), object(14)\n",
      "memory usage: 62.3+ MB\n"
     ]
    }
   ],
   "source": [
    "df.info()"
   ]
  },
  {
   "cell_type": "markdown",
   "id": "3886999b",
   "metadata": {},
   "source": [
    "### Checking Null Values"
   ]
  },
  {
   "cell_type": "code",
   "execution_count": 8,
   "id": "7720352d",
   "metadata": {},
   "outputs": [
    {
     "data": {
      "text/plain": [
       "CreditScore           False\n",
       "FirstPaymentDate      False\n",
       "FirstTimeHomebuyer    False\n",
       "MaturityDate          False\n",
       "MSA                   False\n",
       "MIP                   False\n",
       "Units                 False\n",
       "Occupancy             False\n",
       "OCLTV                 False\n",
       "DTI                   False\n",
       "OrigUPB               False\n",
       "LTV                   False\n",
       "OrigInterestRate      False\n",
       "Channel               False\n",
       "PPM                   False\n",
       "ProductType           False\n",
       "PropertyState         False\n",
       "PropertyType          False\n",
       "PostalCode            False\n",
       "LoanSeqNum            False\n",
       "LoanPurpose           False\n",
       "OrigLoanTerm          False\n",
       "NumBorrowers          False\n",
       "SellerName             True\n",
       "ServicerName          False\n",
       "EverDelinquent        False\n",
       "MonthsDelinquent      False\n",
       "MonthsInRepayment     False\n",
       "dtype: bool"
      ]
     },
     "execution_count": 8,
     "metadata": {},
     "output_type": "execute_result"
    }
   ],
   "source": [
    "df.isnull().sum()!=0"
   ]
  },
  {
   "cell_type": "markdown",
   "id": "10f36def",
   "metadata": {},
   "source": [
    "### Replacing of Null Values"
   ]
  },
  {
   "cell_type": "code",
   "execution_count": 9,
   "id": "57daa3c0",
   "metadata": {},
   "outputs": [],
   "source": [
    "df=df.fillna(df['SellerName'].value_counts().index[0])"
   ]
  },
  {
   "cell_type": "code",
   "execution_count": 10,
   "id": "80f25a16",
   "metadata": {},
   "outputs": [
    {
     "name": "stdout",
     "output_type": "stream",
     "text": [
      "0\n"
     ]
    }
   ],
   "source": [
    "print(df.isnull().values.sum())"
   ]
  },
  {
   "cell_type": "markdown",
   "id": "aadea2e9",
   "metadata": {},
   "source": [
    "### Checking of duplicate values"
   ]
  },
  {
   "cell_type": "code",
   "execution_count": 11,
   "id": "391ee97c",
   "metadata": {},
   "outputs": [],
   "source": [
    "cat_cols=df.select_dtypes('O').columns\n",
    "num_cols=df.select_dtypes(['int','float']).columns"
   ]
  },
  {
   "cell_type": "code",
   "execution_count": 12,
   "id": "776f5050",
   "metadata": {},
   "outputs": [
    {
     "data": {
      "text/plain": [
       "0"
      ]
     },
     "execution_count": 12,
     "metadata": {},
     "output_type": "execute_result"
    }
   ],
   "source": [
    "df.duplicated().sum()"
   ]
  },
  {
   "cell_type": "markdown",
   "id": "cd2e0831",
   "metadata": {},
   "source": [
    "### No duplicate arises"
   ]
  },
  {
   "cell_type": "code",
   "execution_count": 13,
   "id": "81d66079",
   "metadata": {},
   "outputs": [
    {
     "data": {
      "text/plain": [
       "66"
      ]
     },
     "execution_count": 13,
     "metadata": {},
     "output_type": "execute_result"
    }
   ],
   "source": [
    "df['FirstPaymentDate'].nunique()"
   ]
  },
  {
   "cell_type": "markdown",
   "id": "f7889cea",
   "metadata": {},
   "source": [
    "### Replacing with valid date format"
   ]
  },
  {
   "cell_type": "code",
   "execution_count": 14,
   "id": "842734d4",
   "metadata": {},
   "outputs": [],
   "source": [
    "df['MaturityDate']=pd.to_datetime(df['MaturityDate'],format='%Y%m')"
   ]
  },
  {
   "cell_type": "code",
   "execution_count": 15,
   "id": "921e6b77",
   "metadata": {},
   "outputs": [
    {
     "data": {
      "text/plain": [
       "0   2029-01-01\n",
       "1   2029-01-01\n",
       "2   2029-01-01\n",
       "3   2029-01-01\n",
       "4   2029-01-01\n",
       "Name: MaturityDate, dtype: datetime64[ns]"
      ]
     },
     "execution_count": 15,
     "metadata": {},
     "output_type": "execute_result"
    }
   ],
   "source": [
    "df['MaturityDate'].head()"
   ]
  },
  {
   "cell_type": "code",
   "execution_count": 16,
   "id": "84eea362",
   "metadata": {},
   "outputs": [],
   "source": [
    "df['FirstPaymentDate']=pd.to_datetime(df['FirstPaymentDate'],format='%Y%m')"
   ]
  },
  {
   "cell_type": "code",
   "execution_count": 17,
   "id": "117b5b2a",
   "metadata": {},
   "outputs": [
    {
     "data": {
      "text/plain": [
       "0   1999-02-01\n",
       "1   1999-02-01\n",
       "2   1999-02-01\n",
       "3   1999-02-01\n",
       "4   1999-02-01\n",
       "Name: FirstPaymentDate, dtype: datetime64[ns]"
      ]
     },
     "execution_count": 17,
     "metadata": {},
     "output_type": "execute_result"
    }
   ],
   "source": [
    "df['FirstPaymentDate'].head()"
   ]
  },
  {
   "cell_type": "markdown",
   "id": "1d4c96fd",
   "metadata": {},
   "source": [
    "### Checking Outliers"
   ]
  },
  {
   "cell_type": "code",
   "execution_count": 18,
   "id": "4ea0aee0",
   "metadata": {},
   "outputs": [
    {
     "data": {
      "text/html": [
       "<div>\n",
       "<style scoped>\n",
       "    .dataframe tbody tr th:only-of-type {\n",
       "        vertical-align: middle;\n",
       "    }\n",
       "\n",
       "    .dataframe tbody tr th {\n",
       "        vertical-align: top;\n",
       "    }\n",
       "\n",
       "    .dataframe thead th {\n",
       "        text-align: right;\n",
       "    }\n",
       "</style>\n",
       "<table border=\"1\" class=\"dataframe\">\n",
       "  <thead>\n",
       "    <tr style=\"text-align: right;\">\n",
       "      <th></th>\n",
       "      <th>FirstTimeHomebuyer</th>\n",
       "      <th>MSA</th>\n",
       "      <th>Occupancy</th>\n",
       "      <th>Channel</th>\n",
       "      <th>PPM</th>\n",
       "      <th>ProductType</th>\n",
       "      <th>PropertyState</th>\n",
       "      <th>PropertyType</th>\n",
       "      <th>PostalCode</th>\n",
       "      <th>LoanSeqNum</th>\n",
       "      <th>LoanPurpose</th>\n",
       "      <th>NumBorrowers</th>\n",
       "      <th>SellerName</th>\n",
       "      <th>ServicerName</th>\n",
       "    </tr>\n",
       "  </thead>\n",
       "  <tbody>\n",
       "    <tr>\n",
       "      <th>count</th>\n",
       "      <td>291451</td>\n",
       "      <td>291451</td>\n",
       "      <td>291451</td>\n",
       "      <td>291451</td>\n",
       "      <td>291451</td>\n",
       "      <td>291451</td>\n",
       "      <td>291451</td>\n",
       "      <td>291451</td>\n",
       "      <td>291451</td>\n",
       "      <td>291451</td>\n",
       "      <td>291451</td>\n",
       "      <td>291451</td>\n",
       "      <td>291451</td>\n",
       "      <td>291451</td>\n",
       "    </tr>\n",
       "    <tr>\n",
       "      <th>unique</th>\n",
       "      <td>3</td>\n",
       "      <td>392</td>\n",
       "      <td>3</td>\n",
       "      <td>4</td>\n",
       "      <td>3</td>\n",
       "      <td>1</td>\n",
       "      <td>53</td>\n",
       "      <td>7</td>\n",
       "      <td>1767</td>\n",
       "      <td>291451</td>\n",
       "      <td>3</td>\n",
       "      <td>3</td>\n",
       "      <td>20</td>\n",
       "      <td>20</td>\n",
       "    </tr>\n",
       "    <tr>\n",
       "      <th>top</th>\n",
       "      <td>N</td>\n",
       "      <td>X</td>\n",
       "      <td>O</td>\n",
       "      <td>T</td>\n",
       "      <td>N</td>\n",
       "      <td>FRM</td>\n",
       "      <td>CA</td>\n",
       "      <td>SF</td>\n",
       "      <td>94500</td>\n",
       "      <td>F199Q1268030</td>\n",
       "      <td>P</td>\n",
       "      <td>2</td>\n",
       "      <td>Ot</td>\n",
       "      <td>Other servicers</td>\n",
       "    </tr>\n",
       "    <tr>\n",
       "      <th>freq</th>\n",
       "      <td>184154</td>\n",
       "      <td>39100</td>\n",
       "      <td>276131</td>\n",
       "      <td>167670</td>\n",
       "      <td>282125</td>\n",
       "      <td>291451</td>\n",
       "      <td>43327</td>\n",
       "      <td>244923</td>\n",
       "      <td>2582</td>\n",
       "      <td>1</td>\n",
       "      <td>123404</td>\n",
       "      <td>187335</td>\n",
       "      <td>101937</td>\n",
       "      <td>64043</td>\n",
       "    </tr>\n",
       "  </tbody>\n",
       "</table>\n",
       "</div>"
      ],
      "text/plain": [
       "       FirstTimeHomebuyer     MSA Occupancy Channel     PPM ProductType  \\\n",
       "count              291451  291451    291451  291451  291451      291451   \n",
       "unique                  3     392         3       4       3           1   \n",
       "top                     N   X             O       T       N       FRM     \n",
       "freq               184154   39100    276131  167670  282125      291451   \n",
       "\n",
       "       PropertyState PropertyType PostalCode    LoanSeqNum LoanPurpose  \\\n",
       "count         291451       291451     291451        291451      291451   \n",
       "unique            53            7       1767        291451           3   \n",
       "top               CA           SF      94500  F199Q1268030           P   \n",
       "freq           43327       244923       2582             1      123404   \n",
       "\n",
       "       NumBorrowers SellerName          ServicerName  \n",
       "count        291451     291451                291451  \n",
       "unique            3         20                    20  \n",
       "top               2         Ot  Other servicers       \n",
       "freq         187335     101937                 64043  "
      ]
     },
     "execution_count": 18,
     "metadata": {},
     "output_type": "execute_result"
    }
   ],
   "source": [
    "df[cat_cols].describe()"
   ]
  },
  {
   "cell_type": "code",
   "execution_count": 19,
   "id": "08e35fb1",
   "metadata": {},
   "outputs": [
    {
     "data": {
      "text/html": [
       "<div>\n",
       "<style scoped>\n",
       "    .dataframe tbody tr th:only-of-type {\n",
       "        vertical-align: middle;\n",
       "    }\n",
       "\n",
       "    .dataframe tbody tr th {\n",
       "        vertical-align: top;\n",
       "    }\n",
       "\n",
       "    .dataframe thead th {\n",
       "        text-align: right;\n",
       "    }\n",
       "</style>\n",
       "<table border=\"1\" class=\"dataframe\">\n",
       "  <thead>\n",
       "    <tr style=\"text-align: right;\">\n",
       "      <th></th>\n",
       "      <th>CreditScore</th>\n",
       "      <th>MIP</th>\n",
       "      <th>Units</th>\n",
       "      <th>OCLTV</th>\n",
       "      <th>DTI</th>\n",
       "      <th>OrigUPB</th>\n",
       "      <th>LTV</th>\n",
       "      <th>OrigInterestRate</th>\n",
       "      <th>OrigLoanTerm</th>\n",
       "      <th>EverDelinquent</th>\n",
       "      <th>MonthsDelinquent</th>\n",
       "      <th>MonthsInRepayment</th>\n",
       "    </tr>\n",
       "  </thead>\n",
       "  <tbody>\n",
       "    <tr>\n",
       "      <th>count</th>\n",
       "      <td>291451.000000</td>\n",
       "      <td>291451.000000</td>\n",
       "      <td>291451.000000</td>\n",
       "      <td>291451.000000</td>\n",
       "      <td>291451.000000</td>\n",
       "      <td>291451.000000</td>\n",
       "      <td>291451.000000</td>\n",
       "      <td>291451.000000</td>\n",
       "      <td>291451.000000</td>\n",
       "      <td>291451.000000</td>\n",
       "      <td>291451.000000</td>\n",
       "      <td>291451.000000</td>\n",
       "    </tr>\n",
       "    <tr>\n",
       "      <th>mean</th>\n",
       "      <td>708.936991</td>\n",
       "      <td>9.216685</td>\n",
       "      <td>1.026022</td>\n",
       "      <td>76.960529</td>\n",
       "      <td>30.033453</td>\n",
       "      <td>124940.387921</td>\n",
       "      <td>76.937986</td>\n",
       "      <td>6.926547</td>\n",
       "      <td>359.835375</td>\n",
       "      <td>0.197848</td>\n",
       "      <td>1.837729</td>\n",
       "      <td>60.805291</td>\n",
       "    </tr>\n",
       "    <tr>\n",
       "      <th>std</th>\n",
       "      <td>68.408791</td>\n",
       "      <td>12.648273</td>\n",
       "      <td>0.202986</td>\n",
       "      <td>15.236154</td>\n",
       "      <td>13.203974</td>\n",
       "      <td>53657.440624</td>\n",
       "      <td>15.225298</td>\n",
       "      <td>0.343541</td>\n",
       "      <td>2.286939</td>\n",
       "      <td>0.398378</td>\n",
       "      <td>8.809392</td>\n",
       "      <td>46.142599</td>\n",
       "    </tr>\n",
       "    <tr>\n",
       "      <th>min</th>\n",
       "      <td>0.000000</td>\n",
       "      <td>0.000000</td>\n",
       "      <td>0.000000</td>\n",
       "      <td>0.000000</td>\n",
       "      <td>0.000000</td>\n",
       "      <td>8000.000000</td>\n",
       "      <td>0.000000</td>\n",
       "      <td>4.000000</td>\n",
       "      <td>301.000000</td>\n",
       "      <td>0.000000</td>\n",
       "      <td>0.000000</td>\n",
       "      <td>1.000000</td>\n",
       "    </tr>\n",
       "    <tr>\n",
       "      <th>25%</th>\n",
       "      <td>675.000000</td>\n",
       "      <td>0.000000</td>\n",
       "      <td>1.000000</td>\n",
       "      <td>70.000000</td>\n",
       "      <td>22.000000</td>\n",
       "      <td>83000.000000</td>\n",
       "      <td>70.000000</td>\n",
       "      <td>6.750000</td>\n",
       "      <td>360.000000</td>\n",
       "      <td>0.000000</td>\n",
       "      <td>0.000000</td>\n",
       "      <td>34.000000</td>\n",
       "    </tr>\n",
       "    <tr>\n",
       "      <th>50%</th>\n",
       "      <td>717.000000</td>\n",
       "      <td>0.000000</td>\n",
       "      <td>1.000000</td>\n",
       "      <td>80.000000</td>\n",
       "      <td>31.000000</td>\n",
       "      <td>117000.000000</td>\n",
       "      <td>80.000000</td>\n",
       "      <td>6.875000</td>\n",
       "      <td>360.000000</td>\n",
       "      <td>0.000000</td>\n",
       "      <td>0.000000</td>\n",
       "      <td>48.000000</td>\n",
       "    </tr>\n",
       "    <tr>\n",
       "      <th>75%</th>\n",
       "      <td>753.000000</td>\n",
       "      <td>25.000000</td>\n",
       "      <td>1.000000</td>\n",
       "      <td>90.000000</td>\n",
       "      <td>39.000000</td>\n",
       "      <td>160000.000000</td>\n",
       "      <td>90.000000</td>\n",
       "      <td>7.125000</td>\n",
       "      <td>360.000000</td>\n",
       "      <td>0.000000</td>\n",
       "      <td>0.000000</td>\n",
       "      <td>63.000000</td>\n",
       "    </tr>\n",
       "    <tr>\n",
       "      <th>max</th>\n",
       "      <td>849.000000</td>\n",
       "      <td>55.000000</td>\n",
       "      <td>4.000000</td>\n",
       "      <td>110.000000</td>\n",
       "      <td>65.000000</td>\n",
       "      <td>497000.000000</td>\n",
       "      <td>103.000000</td>\n",
       "      <td>12.350000</td>\n",
       "      <td>361.000000</td>\n",
       "      <td>1.000000</td>\n",
       "      <td>180.000000</td>\n",
       "      <td>212.000000</td>\n",
       "    </tr>\n",
       "  </tbody>\n",
       "</table>\n",
       "</div>"
      ],
      "text/plain": [
       "         CreditScore            MIP          Units          OCLTV  \\\n",
       "count  291451.000000  291451.000000  291451.000000  291451.000000   \n",
       "mean      708.936991       9.216685       1.026022      76.960529   \n",
       "std        68.408791      12.648273       0.202986      15.236154   \n",
       "min         0.000000       0.000000       0.000000       0.000000   \n",
       "25%       675.000000       0.000000       1.000000      70.000000   \n",
       "50%       717.000000       0.000000       1.000000      80.000000   \n",
       "75%       753.000000      25.000000       1.000000      90.000000   \n",
       "max       849.000000      55.000000       4.000000     110.000000   \n",
       "\n",
       "                 DTI        OrigUPB            LTV  OrigInterestRate  \\\n",
       "count  291451.000000  291451.000000  291451.000000     291451.000000   \n",
       "mean       30.033453  124940.387921      76.937986          6.926547   \n",
       "std        13.203974   53657.440624      15.225298          0.343541   \n",
       "min         0.000000    8000.000000       0.000000          4.000000   \n",
       "25%        22.000000   83000.000000      70.000000          6.750000   \n",
       "50%        31.000000  117000.000000      80.000000          6.875000   \n",
       "75%        39.000000  160000.000000      90.000000          7.125000   \n",
       "max        65.000000  497000.000000     103.000000         12.350000   \n",
       "\n",
       "        OrigLoanTerm  EverDelinquent  MonthsDelinquent  MonthsInRepayment  \n",
       "count  291451.000000   291451.000000     291451.000000      291451.000000  \n",
       "mean      359.835375        0.197848          1.837729          60.805291  \n",
       "std         2.286939        0.398378          8.809392          46.142599  \n",
       "min       301.000000        0.000000          0.000000           1.000000  \n",
       "25%       360.000000        0.000000          0.000000          34.000000  \n",
       "50%       360.000000        0.000000          0.000000          48.000000  \n",
       "75%       360.000000        0.000000          0.000000          63.000000  \n",
       "max       361.000000        1.000000        180.000000         212.000000  "
      ]
     },
     "execution_count": 19,
     "metadata": {},
     "output_type": "execute_result"
    }
   ],
   "source": [
    "df[num_cols].describe()"
   ]
  },
  {
   "cell_type": "code",
   "execution_count": 20,
   "id": "ee2a5da8",
   "metadata": {},
   "outputs": [
    {
     "data": {
      "image/png": "[encoded data removed]",
      "text/plain": [
       "<Figure size 640x480 with 1 Axes>"
      ]
     },
     "metadata": {},
     "output_type": "display_data"
    }
   ],
   "source": [
    "df.boxplot(column='CreditScore')\n",
    "plt.show()"
   ]
  },
  {
   "cell_type": "code",
   "execution_count": 21,
   "id": "85b04e25",
   "metadata": {},
   "outputs": [
    {
     "name": "stdout",
     "output_type": "stream",
     "text": [
      "        CreditScore FirstPaymentDate FirstTimeHomebuyer MaturityDate    MSA  \\\n",
      "6302            600       1999-02-01                  N   2029-01-01  16974   \n",
      "6303            600       1999-02-01                  N   2029-01-01  31084   \n",
      "6304            600       1999-02-01                  Y   2029-01-01  16700   \n",
      "6305            600       1999-03-01                  N   2029-02-01  10420   \n",
      "6306            600       1999-03-01                  N   2029-02-01  11460   \n",
      "...             ...              ...                ...          ...    ...   \n",
      "288761          800       1999-10-01                  N   2029-09-01  36500   \n",
      "288762          800       1999-11-01                  N   2029-10-01  38300   \n",
      "288763          800       1999-11-01                  N   2029-10-01  X       \n",
      "288764          800       2000-01-01                  N   2029-12-01  X       \n",
      "288765          800       2002-03-01                  N   2029-02-01  15940   \n",
      "\n",
      "        MIP  Units Occupancy  OCLTV  DTI  ...  PostalCode    LoanSeqNum  \\\n",
      "6302     25      1         O     90   28  ...       60600  F199Q1178470   \n",
      "6303     25      1         O     89   21  ...       93500  F199Q1178438   \n",
      "6304     30      1         O     95   37  ...       29400  F199Q1304810   \n",
      "6305      0      1         O     75   32  ...       44200  F199Q1100702   \n",
      "6306      0      1         O     72   18  ...       48100  F199Q1299093   \n",
      "...     ...    ...       ...    ...  ...  ...         ...           ...   \n",
      "288761    0      1         O     59   30  ...       98500  F199Q1187830   \n",
      "288762    0      1         O     66   27  ...       15600  F199Q1167800   \n",
      "288763    0      1         O     80   44  ...       44600  F199Q1263961   \n",
      "288764   25      1         O     37   37  ...       43700  F199Q1264032   \n",
      "288765    0      1         O     40    6  ...       44700  F199Q1398797   \n",
      "\n",
      "        LoanPurpose OrigLoanTerm NumBorrowers SellerName  \\\n",
      "6302              N          360            1         GM   \n",
      "6303              N          360            2         GM   \n",
      "6304              P          360            1         Ot   \n",
      "6305              C          360            2         Ot   \n",
      "6306              N          360            2         ST   \n",
      "...             ...          ...          ...        ...   \n",
      "288761            P          360            2         Ot   \n",
      "288762            P          360            2         Ot   \n",
      "288763            P          360            2         Ot   \n",
      "288764            P          360            2         Ot   \n",
      "288765            C          324            2         Ot   \n",
      "\n",
      "                ServicerName EverDelinquent MonthsDelinquent MonthsInRepayment  \n",
      "6302    GMACMTGECORP                      1                2                34  \n",
      "6303    GMACMTGECORP                      1                2                29  \n",
      "6304     WELLSFARGOBANKNA                 1               32               211  \n",
      "6305    Other servicers                   1               21               211  \n",
      "6306     ABNAMROMTGEGROUPINC              0                0                41  \n",
      "...                      ...            ...              ...               ...  \n",
      "288761  Other servicers                   0                0                49  \n",
      "288762  Other servicers                   0                0                29  \n",
      "288763  Other servicers                   0                0                32  \n",
      "288764  Other servicers                   1                1               159  \n",
      "288765  Other servicers                   0                0                13  \n",
      "\n",
      "[282464 rows x 28 columns]\n"
     ]
    }
   ],
   "source": [
    "outlet=df[df['CreditScore'].between(600,800)]\n",
    "print(outlet)"
   ]
  },
  {
   "cell_type": "code",
   "execution_count": 22,
   "id": "e0426668",
   "metadata": {},
   "outputs": [
    {
     "data": {
      "image/png": "[encoded data removed]",
      "text/plain": [
       "<Figure size 640x480 with 1 Axes>"
      ]
     },
     "metadata": {},
     "output_type": "display_data"
    }
   ],
   "source": [
    "outlet.boxplot(column='CreditScore')\n",
    "plt.show()"
   ]
  },
  {
   "cell_type": "code",
   "execution_count": 23,
   "id": "f5b00d8b",
   "metadata": {},
   "outputs": [
    {
     "data": {
      "image/png": "[encoded data removed]",
      "text/plain": [
       "<Figure size 640x480 with 1 Axes>"
      ]
     },
     "metadata": {},
     "output_type": "display_data"
    }
   ],
   "source": [
    "df.boxplot(column='OCLTV')\n",
    "plt.show()"
   ]
  },
  {
   "cell_type": "markdown",
   "id": "d7e4dc0f",
   "metadata": {},
   "source": [
    "### Removing of Outleirs"
   ]
  },
  {
   "cell_type": "code",
   "execution_count": 24,
   "id": "79008339",
   "metadata": {},
   "outputs": [],
   "source": [
    "outlet1=df[df['OCLTV'].between(60,100)]"
   ]
  },
  {
   "cell_type": "code",
   "execution_count": 25,
   "id": "eafd9855",
   "metadata": {},
   "outputs": [
    {
     "data": {
      "image/png": "[encoded data removed]",
      "text/plain": [
       "<Figure size 640x480 with 1 Axes>"
      ]
     },
     "metadata": {},
     "output_type": "display_data"
    }
   ],
   "source": [
    "outlet1.boxplot(column='OCLTV')\n",
    "plt.show()"
   ]
  },
  {
   "cell_type": "code",
   "execution_count": 26,
   "id": "ec6608cb",
   "metadata": {},
   "outputs": [
    {
     "data": {
      "image/png": "[encoded data removed]",
      "text/plain": [
       "<Figure size 640x480 with 1 Axes>"
      ]
     },
     "metadata": {},
     "output_type": "display_data"
    }
   ],
   "source": [
    "df.boxplot(column='DTI')\n",
    "plt.show()"
   ]
  },
  {
   "cell_type": "code",
   "execution_count": 27,
   "id": "cdd51fdd",
   "metadata": {},
   "outputs": [],
   "source": [
    "outlet2=df[df['DTI'].between(0,60)]"
   ]
  },
  {
   "cell_type": "code",
   "execution_count": 28,
   "id": "f18745a4",
   "metadata": {},
   "outputs": [
    {
     "data": {
      "image/png": "[encoded data removed]",
      "text/plain": [
       "<Figure size 640x480 with 1 Axes>"
      ]
     },
     "metadata": {},
     "output_type": "display_data"
    }
   ],
   "source": [
    "outlet2.boxplot(column='DTI')\n",
    "plt.show()"
   ]
  },
  {
   "cell_type": "code",
   "execution_count": 29,
   "id": "87878be8",
   "metadata": {},
   "outputs": [
    {
     "data": {
      "image/png": "[encoded data removed]",
      "text/plain": [
       "<Figure size 640x480 with 1 Axes>"
      ]
     },
     "metadata": {},
     "output_type": "display_data"
    }
   ],
   "source": [
    "df.boxplot(column='OrigLoanTerm')\n",
    "plt.show()"
   ]
  },
  {
   "cell_type": "code",
   "execution_count": 30,
   "id": "921d0ecf",
   "metadata": {},
   "outputs": [
    {
     "data": {
      "image/png": "[encoded data removed]",
      "text/plain": [
       "<Figure size 640x480 with 1 Axes>"
      ]
     },
     "metadata": {},
     "output_type": "display_data"
    }
   ],
   "source": [
    "df.boxplot(column='OrigUPB')\n",
    "plt.show()"
   ]
  },
  {
   "cell_type": "code",
   "execution_count": 31,
   "id": "d7ec2fbd",
   "metadata": {},
   "outputs": [
    {
     "data": {
      "image/png": "[encoded data removed]",
      "text/plain": [
       "<Figure size 640x480 with 1 Axes>"
      ]
     },
     "metadata": {},
     "output_type": "display_data"
    }
   ],
   "source": [
    "outlet3=df[df['OrigUPB'].between(0,250000)]\n",
    "outlet3.boxplot(column='OrigUPB')\n",
    "plt.show()"
   ]
  },
  {
   "cell_type": "code",
   "execution_count": 32,
   "id": "db440793",
   "metadata": {},
   "outputs": [
    {
     "data": {
      "image/png": "[encoded data removed]",
      "text/plain": [
       "<Figure size 640x480 with 1 Axes>"
      ]
     },
     "metadata": {},
     "output_type": "display_data"
    }
   ],
   "source": [
    "df.boxplot(column='LTV')\n",
    "plt.show()"
   ]
  },
  {
   "cell_type": "code",
   "execution_count": 33,
   "id": "2e0859db",
   "metadata": {},
   "outputs": [
    {
     "data": {
      "image/png": "[encoded data removed]",
      "text/plain": [
       "<Figure size 640x480 with 1 Axes>"
      ]
     },
     "metadata": {},
     "output_type": "display_data"
    }
   ],
   "source": [
    "outlet3=df[df['LTV'].between(50,100)]\n",
    "outlet3.boxplot(column='LTV')\n",
    "plt.show()"
   ]
  },
  {
   "cell_type": "code",
   "execution_count": 34,
   "id": "1d6bd291",
   "metadata": {},
   "outputs": [
    {
     "name": "stdout",
     "output_type": "stream",
     "text": [
      "<class 'pandas.core.frame.DataFrame'>\n",
      "RangeIndex: 291451 entries, 0 to 291450\n",
      "Data columns (total 28 columns):\n",
      " #   Column              Non-Null Count   Dtype         \n",
      "---  ------              --------------   -----         \n",
      " 0   CreditScore         291451 non-null  int64         \n",
      " 1   FirstPaymentDate    291451 non-null  datetime64[ns]\n",
      " 2   FirstTimeHomebuyer  291451 non-null  object        \n",
      " 3   MaturityDate        291451 non-null  datetime64[ns]\n",
      " 4   MSA                 291451 non-null  object        \n",
      " 5   MIP                 291451 non-null  int64         \n",
      " 6   Units               291451 non-null  int64         \n",
      " 7   Occupancy           291451 non-null  object        \n",
      " 8   OCLTV               291451 non-null  int64         \n",
      " 9   DTI                 291451 non-null  int64         \n",
      " 10  OrigUPB             291451 non-null  int64         \n",
      " 11  LTV                 291451 non-null  int64         \n",
      " 12  OrigInterestRate    291451 non-null  float64       \n",
      " 13  Channel             291451 non-null  object        \n",
      " 14  PPM                 291451 non-null  object        \n",
      " 15  ProductType         291451 non-null  object        \n",
      " 16  PropertyState       291451 non-null  object        \n",
      " 17  PropertyType        291451 non-null  object        \n",
      " 18  PostalCode          291451 non-null  object        \n",
      " 19  LoanSeqNum          291451 non-null  object        \n",
      " 20  LoanPurpose         291451 non-null  object        \n",
      " 21  OrigLoanTerm        291451 non-null  int64         \n",
      " 22  NumBorrowers        291451 non-null  object        \n",
      " 23  SellerName          291451 non-null  object        \n",
      " 24  ServicerName        291451 non-null  object        \n",
      " 25  EverDelinquent      291451 non-null  int64         \n",
      " 26  MonthsDelinquent    291451 non-null  int64         \n",
      " 27  MonthsInRepayment   291451 non-null  int64         \n",
      "dtypes: datetime64[ns](2), float64(1), int64(11), object(14)\n",
      "memory usage: 62.3+ MB\n"
     ]
    }
   ],
   "source": [
    "df.info()"
   ]
  },
  {
   "cell_type": "code",
   "execution_count": 35,
   "id": "88cb20a7",
   "metadata": {},
   "outputs": [
    {
     "data": {
      "image/png": "[encoded data removed]",
      "text/plain": [
       "<Figure size 640x480 with 1 Axes>"
      ]
     },
     "metadata": {},
     "output_type": "display_data"
    }
   ],
   "source": [
    "df.boxplot(column='OrigInterestRate')\n",
    "plt.show()"
   ]
  },
  {
   "cell_type": "code",
   "execution_count": 36,
   "id": "38b8af50",
   "metadata": {},
   "outputs": [
    {
     "data": {
      "image/png": "[encoded data removed]",
      "text/plain": [
       "<Figure size 640x480 with 1 Axes>"
      ]
     },
     "metadata": {},
     "output_type": "display_data"
    }
   ],
   "source": [
    "df.boxplot(column='MonthsInRepayment')\n",
    "plt.show()"
   ]
  },
  {
   "cell_type": "code",
   "execution_count": 37,
   "id": "dc256e54",
   "metadata": {},
   "outputs": [
    {
     "data": {
      "image/png": "[encoded data removed]",
      "text/plain": [
       "<Figure size 640x480 with 1 Axes>"
      ]
     },
     "metadata": {},
     "output_type": "display_data"
    }
   ],
   "source": [
    "outlet4=df[df['MonthsInRepayment'].between(0,70)]\n",
    "outlet4.boxplot(column='MonthsInRepayment')\n",
    "plt.show()"
   ]
  },
  {
   "cell_type": "code",
   "execution_count": 38,
   "id": "a3b84f9f",
   "metadata": {},
   "outputs": [],
   "source": [
    "outlier_df=outlet\n",
    "for data_frame in [outlet2,outlet3,outlet4]:\n",
    "    outlier_df=outlier_df.merge(data_frame)"
   ]
  },
  {
   "cell_type": "code",
   "execution_count": 39,
   "id": "db976ccb",
   "metadata": {},
   "outputs": [
    {
     "name": "stdout",
     "output_type": "stream",
     "text": [
      "        CreditScore FirstPaymentDate FirstTimeHomebuyer MaturityDate    MSA  \\\n",
      "0               600       1999-02-01                  N   2029-01-01  16974   \n",
      "1               600       1999-02-01                  N   2029-01-01  31084   \n",
      "2               600       1999-03-01                  N   2029-02-01  11460   \n",
      "3               600       1999-03-01                  N   2029-02-01  12060   \n",
      "4               600       1999-03-01                  N   2029-02-01  13820   \n",
      "...             ...              ...                ...          ...    ...   \n",
      "208507          800       1999-06-01                  X   2029-05-01  33700   \n",
      "208508          800       1999-09-01                  N   2029-08-01  37340   \n",
      "208509          800       1999-10-01                  N   2029-09-01  36500   \n",
      "208510          800       1999-11-01                  N   2029-10-01  38300   \n",
      "208511          800       1999-11-01                  N   2029-10-01  X       \n",
      "\n",
      "        MIP  Units Occupancy  OCLTV  DTI  ...  PostalCode    LoanSeqNum  \\\n",
      "0        25      1         O     90   28  ...       60600  F199Q1178470   \n",
      "1        25      1         O     89   21  ...       93500  F199Q1178438   \n",
      "2         0      1         O     72   18  ...       48100  F199Q1299093   \n",
      "3        30      1         O     95   25  ...       30000  F199Q1016319   \n",
      "4        29      1         O     90   18  ...       35000  F199Q1029124   \n",
      "...     ...    ...       ...    ...  ...  ...         ...           ...   \n",
      "208507    0      1         O     61   37  ...       95300  F199Q1023016   \n",
      "208508    0      1         O     78   34  ...       32700  F199Q1000906   \n",
      "208509    0      1         O     59   30  ...       98500  F199Q1187830   \n",
      "208510    0      1         O     66   27  ...       15600  F199Q1167800   \n",
      "208511    0      1         O     80   44  ...       44600  F199Q1263961   \n",
      "\n",
      "        LoanPurpose OrigLoanTerm NumBorrowers SellerName  \\\n",
      "0                 N          360            1         GM   \n",
      "1                 N          360            2         GM   \n",
      "2                 N          360            2         ST   \n",
      "3                 P          360            1         FT   \n",
      "4                 N          360            1         CO   \n",
      "...             ...          ...          ...        ...   \n",
      "208507            C          360            1         BA   \n",
      "208508            P          360            2         Ot   \n",
      "208509            P          360            2         Ot   \n",
      "208510            P          360            2         Ot   \n",
      "208511            P          360            2         Ot   \n",
      "\n",
      "                ServicerName EverDelinquent MonthsDelinquent MonthsInRepayment  \n",
      "0       GMACMTGECORP                      1                2                34  \n",
      "1       GMACMTGECORP                      1                2                29  \n",
      "2        ABNAMROMTGEGROUPINC              0                0                41  \n",
      "3        FTMTGESERVICESINC                0                0                27  \n",
      "4       COUNTRYWIDE                       0                0                10  \n",
      "...                      ...            ...              ...               ...  \n",
      "208507  Other servicers                   0                0                 3  \n",
      "208508  Other servicers                   0                0                21  \n",
      "208509  Other servicers                   0                0                49  \n",
      "208510  Other servicers                   0                0                29  \n",
      "208511  Other servicers                   0                0                32  \n",
      "\n",
      "[208512 rows x 28 columns]\n"
     ]
    }
   ],
   "source": [
    "print(outlier_df)"
   ]
  },
  {
   "cell_type": "code",
   "execution_count": 40,
   "id": "c6127496",
   "metadata": {},
   "outputs": [],
   "source": [
    "outlier_df.drop_duplicates(inplace=True)"
   ]
  },
  {
   "cell_type": "code",
   "execution_count": 41,
   "id": "ec6f5646",
   "metadata": {},
   "outputs": [
    {
     "data": {
      "text/plain": [
       "(208512, 28)"
      ]
     },
     "execution_count": 41,
     "metadata": {},
     "output_type": "execute_result"
    }
   ],
   "source": [
    "outlier_df.shape"
   ]
  },
  {
   "cell_type": "markdown",
   "id": "4ab046f2",
   "metadata": {},
   "source": [
    "### Visualization of Data"
   ]
  },
  {
   "cell_type": "markdown",
   "id": "4a674f21",
   "metadata": {},
   "source": [
    "### Univariate"
   ]
  },
  {
   "cell_type": "code",
   "execution_count": 42,
   "id": "0affdbf2",
   "metadata": {},
   "outputs": [
    {
     "data": {
      "text/plain": [
       "<AxesSubplot:xlabel='FirstTimeHomebuyer', ylabel='count'>"
      ]
     },
     "execution_count": 42,
     "metadata": {},
     "output_type": "execute_result"
    },
    {
     "data": {
      "image/png": "[encoded data removed]",
      "text/plain": [
       "<Figure size 640x480 with 1 Axes>"
      ]
     },
     "metadata": {},
     "output_type": "display_data"
    }
   ],
   "source": [
    "univariate=plt.figsize=(6,6)\n",
    "sns.countplot(df.FirstTimeHomebuyer)"
   ]
  },
  {
   "cell_type": "markdown",
   "id": "21856b35",
   "metadata": {},
   "source": [
    "### Replacing X with zeros"
   ]
  },
  {
   "cell_type": "code",
   "execution_count": 43,
   "id": "05ba779e",
   "metadata": {},
   "outputs": [],
   "source": [
    "df['NumBorrowers']=df['NumBorrowers'].replace('X','0')"
   ]
  },
  {
   "cell_type": "code",
   "execution_count": 44,
   "id": "54bc3e1a",
   "metadata": {},
   "outputs": [
    {
     "data": {
      "text/plain": [
       "count     291451\n",
       "unique         3\n",
       "top            2\n",
       "freq      187335\n",
       "Name: NumBorrowers, dtype: object"
      ]
     },
     "execution_count": 44,
     "metadata": {},
     "output_type": "execute_result"
    }
   ],
   "source": [
    "df.NumBorrowers.describe()"
   ]
  },
  {
   "cell_type": "code",
   "execution_count": 45,
   "id": "d435fdfd",
   "metadata": {},
   "outputs": [
    {
     "data": {
      "text/plain": [
       "<AxesSubplot:xlabel='CreditScore', ylabel='count'>"
      ]
     },
     "execution_count": 45,
     "metadata": {},
     "output_type": "execute_result"
    },
    {
     "data": {
      "image/png": "[encoded data removed]",
      "text/plain": [
       "<Figure size 640x480 with 1 Axes>"
      ]
     },
     "metadata": {},
     "output_type": "display_data"
    }
   ],
   "source": [
    "uni=plt.figsize=(6,6)\n",
    "sns.countplot(df.CreditScore)"
   ]
  },
  {
   "cell_type": "markdown",
   "id": "3b034fb7",
   "metadata": {},
   "source": [
    "### Bivariate"
   ]
  },
  {
   "cell_type": "code",
   "execution_count": 46,
   "id": "ea8ad51f",
   "metadata": {},
   "outputs": [
    {
     "data": {
      "text/plain": [
       "<AxesSubplot:xlabel='ProductType', ylabel='count'>"
      ]
     },
     "execution_count": 46,
     "metadata": {},
     "output_type": "execute_result"
    },
    {
     "data": {
      "image/png": "[encoded data removed]",
      "text/plain": [
       "<Figure size 640x480 with 1 Axes>"
      ]
     },
     "metadata": {},
     "output_type": "display_data"
    }
   ],
   "source": [
    "sns.countplot(df['ProductType'],hue=df['LoanPurpose'])"
   ]
  },
  {
   "cell_type": "markdown",
   "id": "3936cbd8",
   "metadata": {},
   "source": [
    "### Multivariate"
   ]
  },
  {
   "cell_type": "code",
   "execution_count": 47,
   "id": "fbf2dee6",
   "metadata": {},
   "outputs": [
    {
     "data": {
      "text/plain": [
       "<AxesSubplot:>"
      ]
     },
     "execution_count": 47,
     "metadata": {},
     "output_type": "execute_result"
    },
    {
     "data": {
      "image/png": "[encoded data removed]",
      "text/plain": [
       "<Figure size 600x500 with 2 Axes>"
      ]
     },
     "metadata": {},
     "output_type": "display_data"
    }
   ],
   "source": [
    "plt.figure(figsize=(6,5))\n",
    "sns.heatmap(df.corr(),annot=True)"
   ]
  },
  {
   "cell_type": "markdown",
   "id": "a9bac9d0",
   "metadata": {},
   "source": [
    "### Including with Labels"
   ]
  },
  {
   "cell_type": "code",
   "execution_count": 48,
   "id": "6e2489ae",
   "metadata": {},
   "outputs": [],
   "source": [
    "df['Credits']=np.select([df['CreditScore'].between(0,650),\n",
    "df['CreditScore'].between(650,700),\n",
    "df['CreditScore'].between(700,750),\n",
    "df['CreditScore'].between(750,900)],[1,2,3,4])"
   ]
  },
  {
   "cell_type": "code",
   "execution_count": 49,
   "id": "2d2767ed",
   "metadata": {},
   "outputs": [],
   "source": [
    "df['L']=np.select([df['LTV'].between(0,25),\n",
    "df['LTV'].between(25,50),\n",
    "df['LTV'].between(50,100)],[1,2,3])"
   ]
  },
  {
   "cell_type": "code",
   "execution_count": 50,
   "id": "daaaa803",
   "metadata": {},
   "outputs": [
    {
     "name": "stdout",
     "output_type": "stream",
     "text": [
      "0         1\n",
      "1         1\n",
      "2         1\n",
      "3         1\n",
      "4         1\n",
      "         ..\n",
      "291446    4\n",
      "291447    4\n",
      "291448    4\n",
      "291449    4\n",
      "291450    4\n",
      "Name: Credits, Length: 291451, dtype: int32\n"
     ]
    }
   ],
   "source": [
    "print(df['Credits'])"
   ]
  },
  {
   "cell_type": "code",
   "execution_count": 51,
   "id": "f18426aa",
   "metadata": {},
   "outputs": [
    {
     "name": "stdout",
     "output_type": "stream",
     "text": [
      "0         3\n",
      "1         3\n",
      "2         3\n",
      "3         3\n",
      "4         3\n",
      "         ..\n",
      "291446    3\n",
      "291447    3\n",
      "291448    3\n",
      "291449    3\n",
      "291450    2\n",
      "Name: L, Length: 291451, dtype: int32\n"
     ]
    }
   ],
   "source": [
    "print(df['L'])"
   ]
  },
  {
   "cell_type": "code",
   "execution_count": 52,
   "id": "d9ba27bf",
   "metadata": {},
   "outputs": [],
   "source": [
    "df['MonthInRepayment']=df['MonthsInRepayment'].div(12)"
   ]
  },
  {
   "cell_type": "code",
   "execution_count": 53,
   "id": "71c53bd8",
   "metadata": {},
   "outputs": [
    {
     "name": "stdout",
     "output_type": "stream",
     "text": [
      "0    2\n",
      "1    3\n",
      "2    2\n",
      "3    1\n",
      "4    2\n",
      "Name: MonthsInRepayment_Range, dtype: category\n",
      "Categories (5, int64): [1 < 2 < 3 < 4 < 5]\n"
     ]
    }
   ],
   "source": [
    "df['MonthsInRepayment_Range'] = pd.cut(x=df['MonthInRepayment'], bins=[-1, 4, 8, 12, 16, 20],\n",
    "                    labels=[1,2,3,4,5])\n",
    "print(df['MonthsInRepayment_Range'].head(5))"
   ]
  },
  {
   "cell_type": "code",
   "execution_count": 54,
   "id": "056aacb2",
   "metadata": {},
   "outputs": [
    {
     "data": {
      "text/html": [
       "<div>\n",
       "<style scoped>\n",
       "    .dataframe tbody tr th:only-of-type {\n",
       "        vertical-align: middle;\n",
       "    }\n",
       "\n",
       "    .dataframe tbody tr th {\n",
       "        vertical-align: top;\n",
       "    }\n",
       "\n",
       "    .dataframe thead th {\n",
       "        text-align: right;\n",
       "    }\n",
       "</style>\n",
       "<table border=\"1\" class=\"dataframe\">\n",
       "  <thead>\n",
       "    <tr style=\"text-align: right;\">\n",
       "      <th></th>\n",
       "      <th>MIP</th>\n",
       "      <th>Units</th>\n",
       "      <th>OCLTV</th>\n",
       "      <th>DTI</th>\n",
       "      <th>OrigUPB</th>\n",
       "      <th>LTV</th>\n",
       "      <th>OrigInterestRate</th>\n",
       "      <th>LoanSeqNum</th>\n",
       "      <th>OrigLoanTerm</th>\n",
       "      <th>EverDelinquent</th>\n",
       "      <th>MonthsDelinquent</th>\n",
       "      <th>MonthsInRepayment</th>\n",
       "      <th>Credits</th>\n",
       "      <th>L</th>\n",
       "      <th>MonthInRepayment</th>\n",
       "      <th>MonthsInRepayment_Range</th>\n",
       "    </tr>\n",
       "  </thead>\n",
       "  <tbody>\n",
       "    <tr>\n",
       "      <th>0</th>\n",
       "      <td>25</td>\n",
       "      <td>1</td>\n",
       "      <td>89</td>\n",
       "      <td>27</td>\n",
       "      <td>117000</td>\n",
       "      <td>89</td>\n",
       "      <td>6.750</td>\n",
       "      <td>F199Q1268030</td>\n",
       "      <td>360</td>\n",
       "      <td>0</td>\n",
       "      <td>0</td>\n",
       "      <td>52</td>\n",
       "      <td>1</td>\n",
       "      <td>3</td>\n",
       "      <td>4.333333</td>\n",
       "      <td>2</td>\n",
       "    </tr>\n",
       "    <tr>\n",
       "      <th>1</th>\n",
       "      <td>0</td>\n",
       "      <td>1</td>\n",
       "      <td>73</td>\n",
       "      <td>17</td>\n",
       "      <td>109000</td>\n",
       "      <td>73</td>\n",
       "      <td>6.500</td>\n",
       "      <td>F199Q1015092</td>\n",
       "      <td>360</td>\n",
       "      <td>0</td>\n",
       "      <td>0</td>\n",
       "      <td>144</td>\n",
       "      <td>1</td>\n",
       "      <td>3</td>\n",
       "      <td>12.000000</td>\n",
       "      <td>3</td>\n",
       "    </tr>\n",
       "    <tr>\n",
       "      <th>2</th>\n",
       "      <td>0</td>\n",
       "      <td>1</td>\n",
       "      <td>75</td>\n",
       "      <td>16</td>\n",
       "      <td>88000</td>\n",
       "      <td>75</td>\n",
       "      <td>6.875</td>\n",
       "      <td>F199Q1266886</td>\n",
       "      <td>360</td>\n",
       "      <td>0</td>\n",
       "      <td>0</td>\n",
       "      <td>67</td>\n",
       "      <td>1</td>\n",
       "      <td>3</td>\n",
       "      <td>5.583333</td>\n",
       "      <td>2</td>\n",
       "    </tr>\n",
       "    <tr>\n",
       "      <th>3</th>\n",
       "      <td>0</td>\n",
       "      <td>1</td>\n",
       "      <td>76</td>\n",
       "      <td>14</td>\n",
       "      <td>160000</td>\n",
       "      <td>76</td>\n",
       "      <td>6.875</td>\n",
       "      <td>F199Q1178167</td>\n",
       "      <td>360</td>\n",
       "      <td>0</td>\n",
       "      <td>0</td>\n",
       "      <td>35</td>\n",
       "      <td>1</td>\n",
       "      <td>3</td>\n",
       "      <td>2.916667</td>\n",
       "      <td>1</td>\n",
       "    </tr>\n",
       "    <tr>\n",
       "      <th>4</th>\n",
       "      <td>0</td>\n",
       "      <td>1</td>\n",
       "      <td>78</td>\n",
       "      <td>18</td>\n",
       "      <td>109000</td>\n",
       "      <td>78</td>\n",
       "      <td>7.125</td>\n",
       "      <td>F199Q1178517</td>\n",
       "      <td>360</td>\n",
       "      <td>0</td>\n",
       "      <td>0</td>\n",
       "      <td>54</td>\n",
       "      <td>1</td>\n",
       "      <td>3</td>\n",
       "      <td>4.500000</td>\n",
       "      <td>2</td>\n",
       "    </tr>\n",
       "  </tbody>\n",
       "</table>\n",
       "</div>"
      ],
      "text/plain": [
       "   MIP  Units  OCLTV  DTI  OrigUPB  LTV  OrigInterestRate    LoanSeqNum  \\\n",
       "0   25      1     89   27   117000   89             6.750  F199Q1268030   \n",
       "1    0      1     73   17   109000   73             6.500  F199Q1015092   \n",
       "2    0      1     75   16    88000   75             6.875  F199Q1266886   \n",
       "3    0      1     76   14   160000   76             6.875  F199Q1178167   \n",
       "4    0      1     78   18   109000   78             7.125  F199Q1178517   \n",
       "\n",
       "   OrigLoanTerm  EverDelinquent  MonthsDelinquent  MonthsInRepayment  Credits  \\\n",
       "0           360               0                 0                 52        1   \n",
       "1           360               0                 0                144        1   \n",
       "2           360               0                 0                 67        1   \n",
       "3           360               0                 0                 35        1   \n",
       "4           360               0                 0                 54        1   \n",
       "\n",
       "   L  MonthInRepayment MonthsInRepayment_Range  \n",
       "0  3          4.333333                       2  \n",
       "1  3         12.000000                       3  \n",
       "2  3          5.583333                       2  \n",
       "3  3          2.916667                       1  \n",
       "4  3          4.500000                       2  "
      ]
     },
     "execution_count": 54,
     "metadata": {},
     "output_type": "execute_result"
    }
   ],
   "source": [
    "df=df.drop(['CreditScore','FirstTimeHomebuyer','FirstPaymentDate','MaturityDate','MSA','Occupancy','Channel','PPM','PropertyState','PropertyType','PostalCode','ProductType','LoanPurpose','NumBorrowers','SellerName','ServicerName',],axis = 1)\n",
    "df.head()"
   ]
  },
  {
   "cell_type": "markdown",
   "id": "073fbe67",
   "metadata": {},
   "source": [
    "### Feature Engineering"
   ]
  },
  {
   "cell_type": "code",
   "execution_count": 55,
   "id": "ce57fc93",
   "metadata": {},
   "outputs": [
    {
     "data": {
      "text/plain": [
       "(291451, 16)"
      ]
     },
     "execution_count": 55,
     "metadata": {},
     "output_type": "execute_result"
    }
   ],
   "source": [
    "df.shape"
   ]
  },
  {
   "cell_type": "markdown",
   "id": "370e60fa",
   "metadata": {},
   "source": [
    "### Label Encoding"
   ]
  },
  {
   "cell_type": "code",
   "execution_count": 56,
   "id": "1805f881",
   "metadata": {},
   "outputs": [],
   "source": [
    "from sklearn.preprocessing import LabelEncoder\n",
    "le=LabelEncoder()"
   ]
  },
  {
   "cell_type": "code",
   "execution_count": 57,
   "id": "a95a6d0e",
   "metadata": {},
   "outputs": [],
   "source": [
    "df['LoanSeqNum']=le.fit_transform(df['LoanSeqNum'])"
   ]
  },
  {
   "cell_type": "markdown",
   "id": "076c6875",
   "metadata": {},
   "source": [
    "### One Hot Encoding"
   ]
  },
  {
   "cell_type": "code",
   "execution_count": 58,
   "id": "6a7dd5e7",
   "metadata": {},
   "outputs": [],
   "source": [
    "df=pd.get_dummies(df,columns=['MonthsInRepayment_Range'])\n"
   ]
  },
  {
   "cell_type": "code",
   "execution_count": 59,
   "id": "9cc37734",
   "metadata": {},
   "outputs": [
    {
     "data": {
      "text/plain": [
       "MIP                    int64\n",
       "Units                  int64\n",
       "OCLTV                  int64\n",
       "DTI                    int64\n",
       "OrigUPB                int64\n",
       "LTV                    int64\n",
       "OrigInterestRate     float64\n",
       "LoanSeqNum             int32\n",
       "OrigLoanTerm           int64\n",
       "EverDelinquent         int64\n",
       "MonthsDelinquent       int64\n",
       "MonthsInRepayment      int64\n",
       "Credits                int32\n",
       "L                      int32\n",
       "MonthInRepayment     float64\n",
       "dtype: object"
      ]
     },
     "execution_count": 59,
     "metadata": {},
     "output_type": "execute_result"
    }
   ],
   "source": [
    "df.dtypes.head(15)"
   ]
  },
  {
   "cell_type": "code",
   "execution_count": 60,
   "id": "e2145ec4",
   "metadata": {},
   "outputs": [],
   "source": [
    "X = df.drop(['EverDelinquent'],axis = 1)\n",
    "y = df['EverDelinquent']"
   ]
  },
  {
   "cell_type": "code",
   "execution_count": 61,
   "id": "2bda10e5",
   "metadata": {},
   "outputs": [
    {
     "name": "stdout",
     "output_type": "stream",
     "text": [
      "(195272, 19) (96179, 19) (195272,) (96179,)\n"
     ]
    }
   ],
   "source": [
    "from sklearn.model_selection import train_test_split\n",
    "X_train,X_test,y_train,y_test=train_test_split(X,y,test_size=0.33,random_state=0)\n",
    "print(X_train.shape,X_test.shape,y_train.shape,y_test.shape)"
   ]
  },
  {
   "cell_type": "code",
   "execution_count": 62,
   "id": "bb6d8b50",
   "metadata": {},
   "outputs": [
    {
     "data": {
      "text/plain": [
       "(96179, 19)"
      ]
     },
     "execution_count": 62,
     "metadata": {},
     "output_type": "execute_result"
    }
   ],
   "source": [
    "X_test.shape"
   ]
  },
  {
   "cell_type": "code",
   "execution_count": 63,
   "id": "875d097f",
   "metadata": {},
   "outputs": [
    {
     "name": "stdout",
     "output_type": "stream",
     "text": [
      "Requirement already satisfied: imblearn in c:\\users\\elcot\\anaconda3\\lib\\site-packages (0.0)\n",
      "Requirement already satisfied: imbalanced-learn in c:\\users\\elcot\\anaconda3\\lib\\site-packages (from imblearn) (0.10.1)\n",
      "Requirement already satisfied: threadpoolctl>=2.0.0 in c:\\users\\elcot\\anaconda3\\lib\\site-packages (from imbalanced-learn->imblearn) (2.2.0)\n",
      "Requirement already satisfied: numpy>=1.17.3 in c:\\users\\elcot\\anaconda3\\lib\\site-packages (from imbalanced-learn->imblearn) (1.21.5)\n",
      "Requirement already satisfied: joblib>=1.1.1 in c:\\users\\elcot\\anaconda3\\lib\\site-packages (from imbalanced-learn->imblearn) (1.2.0)\n",
      "Requirement already satisfied: scipy>=1.3.2 in c:\\users\\elcot\\anaconda3\\lib\\site-packages (from imbalanced-learn->imblearn) (1.9.1)\n",
      "Requirement already satisfied: scikit-learn>=1.0.2 in c:\\users\\elcot\\anaconda3\\lib\\site-packages (from imbalanced-learn->imblearn) (1.0.2)\n",
      "Note: you may need to restart the kernel to use updated packages.\n"
     ]
    }
   ],
   "source": [
    "pip install imblearn"
   ]
  },
  {
   "cell_type": "code",
   "execution_count": 64,
   "id": "cc4b8258",
   "metadata": {},
   "outputs": [],
   "source": [
    "from imblearn.ensemble import BalancedBaggingClassifier\n",
    "from sklearn.tree import DecisionTreeClassifier\n",
    "classifier = BalancedBaggingClassifier(base_estimator=DecisionTreeClassifier(),\n",
    "                                sampling_strategy='not majority',\n",
    "                                replacement=False,\n",
    "                                random_state=42)\n"
   ]
  },
  {
   "cell_type": "code",
   "execution_count": 65,
   "id": "ff35edad",
   "metadata": {},
   "outputs": [],
   "source": [
    "classifier.fit(X_train, y_train)\n",
    "preds = classifier.predict(X_test)"
   ]
  },
  {
   "cell_type": "code",
   "execution_count": 66,
   "id": "bc275058",
   "metadata": {},
   "outputs": [
    {
     "data": {
      "text/plain": [
       "(96179,)"
      ]
     },
     "execution_count": 66,
     "metadata": {},
     "output_type": "execute_result"
    }
   ],
   "source": [
    "preds.shape"
   ]
  },
  {
   "cell_type": "markdown",
   "id": "0d2daffd",
   "metadata": {},
   "source": [
    "### Normalization"
   ]
  },
  {
   "cell_type": "code",
   "execution_count": 73,
   "id": "8d3f4ff5",
   "metadata": {},
   "outputs": [],
   "source": [
    "from sklearn import preprocessing\n",
    "min_max_scaler = preprocessing.MinMaxScaler()\n",
    "x_scaled = min_max_scaler.fit_transform(X_train)\n",
    "df = pd.DataFrame(x_scaled)"
   ]
  },
  {
   "cell_type": "code",
   "execution_count": 74,
   "id": "02455b2f",
   "metadata": {},
   "outputs": [
    {
     "name": "stdout",
     "output_type": "stream",
     "text": [
      "[[0.         0.         0.69090909 ... 0.         0.         0.        ]\n",
      " [0.57692308 0.         0.84545455 ... 0.         0.         0.        ]\n",
      " [0.69230769 0.         0.86363636 ... 0.         0.         0.        ]\n",
      " ...\n",
      " [0.57692308 0.         0.86363636 ... 0.         0.         0.        ]\n",
      " [0.         0.         0.7        ... 1.         0.         0.        ]\n",
      " [0.         0.         0.72727273 ... 0.         0.         0.        ]]\n"
     ]
    }
   ],
   "source": [
    "print(x_scaled)"
   ]
  },
  {
   "cell_type": "markdown",
   "id": "b65a724c",
   "metadata": {},
   "source": [
    "### Standardization"
   ]
  },
  {
   "cell_type": "code",
   "execution_count": 75,
   "id": "c5f9dd7a",
   "metadata": {},
   "outputs": [],
   "source": [
    "from sklearn.preprocessing import StandardScaler\n",
    "std_scaler=StandardScaler()\n",
    "pred=std_scaler.fit_transform(X_train)\n",
    "x_test = std_scaler.transform(X_test)"
   ]
  },
  {
   "cell_type": "code",
   "execution_count": 76,
   "id": "4018d7cb",
   "metadata": {},
   "outputs": [
    {
     "data": {
      "text/plain": [
       "array([[-7.28327531e-01, -1.28255568e-01, -6.26960936e-02, ...,\n",
       "        -2.70479086e-01, -2.12542406e-01, -2.04098555e-01],\n",
       "       [ 1.64263143e+00, -1.28255568e-01,  1.05250941e+00, ...,\n",
       "        -2.70479086e-01, -2.12542406e-01, -2.04098555e-01],\n",
       "       [ 2.11682323e+00, -1.28255568e-01,  1.18371005e+00, ...,\n",
       "        -2.70479086e-01, -2.12542406e-01, -2.04098555e-01],\n",
       "       ...,\n",
       "       [ 1.64263143e+00, -1.28255568e-01,  1.18371005e+00, ...,\n",
       "        -2.70479086e-01, -2.12542406e-01, -2.04098555e-01],\n",
       "       [-7.28327531e-01, -1.28255568e-01,  2.90422998e-03, ...,\n",
       "         3.69714352e+00, -2.12542406e-01, -2.04098555e-01],\n",
       "       [-7.28327531e-01, -1.28255568e-01,  1.99705201e-01, ...,\n",
       "        -2.70479086e-01, -2.12542406e-01, -2.04098555e-01]])"
      ]
     },
     "execution_count": 76,
     "metadata": {},
     "output_type": "execute_result"
    }
   ],
   "source": [
    "pred"
   ]
  },
  {
   "cell_type": "code",
   "execution_count": 77,
   "id": "43c2f999",
   "metadata": {},
   "outputs": [
    {
     "name": "stdout",
     "output_type": "stream",
     "text": [
      " After standarization mean 6.382338269302387e-17 \n",
      " std 1.0\n"
     ]
    }
   ],
   "source": [
    "print(f\" After standarization mean {pred[:,0].mean()} \\n std {pred[:,0].std()}\" )"
   ]
  },
  {
   "cell_type": "code",
   "execution_count": null,
   "id": "c6b9f73b",
   "metadata": {},
   "outputs": [],
   "source": []
  }
 ],
 "metadata": {
  "kernelspec": {
   "display_name": "Python 3 (ipykernel)",
   "language": "python",
   "name": "python3"
  },
  "language_info": {
   "codemirror_mode": {
    "name": "ipython",
    "version": 3
   },
   "file_extension": ".py",
   "mimetype": "text/x-python",
   "name": "python",
   "nbconvert_exporter": "python",
   "pygments_lexer": "ipython3",
   "version": "3.9.13"
  }
 },
 "nbformat": 4,
 "nbformat_minor": 5
}
